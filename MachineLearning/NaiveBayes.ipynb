{
 "cells": [
  {
   "cell_type": "code",
   "execution_count": 1,
   "metadata": {},
   "outputs": [
    {
     "name": "stdout",
     "output_type": "stream",
     "text": [
      "D:\\MachineLearning\\Data\n"
     ]
    }
   ],
   "source": [
    "%mkdir Data\n",
    "%cd Data\n",
    "%mkdir naiveBayes\n",
    "%cd ../"
   ]
  },
  {
   "cell_type": "code",
   "execution_count": 19,
   "metadata": {
    "collapsed": true
   },
   "outputs": [],
   "source": [
    "import pandas\n",
    "import numpy as np\n",
    "import math"
   ]
  },
  {
   "cell_type": "code",
   "execution_count": 31,
   "metadata": {},
   "outputs": [
    {
     "name": "stdout",
     "output_type": "stream",
     "text": [
      "D:\\MachineLearning/data/naiveBayes/\n",
      "1\n",
      "{'Np': (4.7837837837837842, 3.7771370191401137), 'Gt': (139.71891891891892, 32.88845881393027), 'Bmi': (35.308108108108101, 7.444082662827926), 'Ss': (101.82162162162162, 139.25782259581345), 'Tsft': (21.800000000000001, 17.093637191435658), 'Dpf': (0.56327567567567594, 0.39177078889313427), 'Dbp': (69.827027027027029, 22.035164141185763), 'Age': (36.221621621621622, 10.586047296812128)}\n",
      "0\n",
      "{'Np': (3.2848484848484847, 2.955848974298471), 'Gt': (110.18484848484849, 27.58917905147993), 'Bmi': (30.031212121212093, 7.878653268080842), 'Ss': (67.75151515151515, 103.02288101609177), 'Tsft': (19.830303030303032, 14.693690355789078), 'Dpf': (0.43875454545454551, 0.30304846656170276), 'Dbp': (68.203030303030303, 17.438671495975143), 'Age': (31.354545454545455, 11.861769271400199)}\n"
     ]
    }
   ],
   "source": [
    "def split_dataset(dataset):\n",
    "    splitRatio = 0.67\n",
    "    data_len = len(dataset)\n",
    "    train_num = int(np.round(data_len * splitRatio))\n",
    "    #test_num = data_len - train_num\n",
    "    train = dataset[0:train_num]\n",
    "    test = dataset[train_num:]\n",
    "    return train,test\n",
    "\n",
    "def separateByClass(train_datset):\n",
    "    result = {}\n",
    "    result['0'] = train_datset[train_datset['Class'] == 0]\n",
    "    result['1'] = train_datset[train_datset['Class'] == 1]\n",
    "    return result\n",
    "\n",
    "def mean(number_list):\n",
    "    return sum(number_list) / float(len(number_list))\n",
    "\n",
    "def stdev(number_list):\n",
    "    avg = mean(number_list)\n",
    "    variance = sum([pow(num - avg,2) for num in number_list]) / float(len(number_list))\n",
    "    return math.sqrt(variance)\n",
    "\n",
    "def summarize(dataset):\n",
    "    columns = dataset.columns\n",
    "    summaries = {}\n",
    "    for column in columns:\n",
    "        num_list = list(dataset[column])\n",
    "        summaries[column] = (mean(num_list),stdev(num_list))\n",
    "    del summaries['Class']\n",
    "    return summaries\n",
    "\n",
    "def calculateProbability(x, mean, stdev):\n",
    "    exponent = math.exp(-(math.pow(x-mean,2)/(2*math.pow(stdev,2))))\n",
    "    return (1 / (math.sqrt(2*math.pi) * stdev)) * exponent\n",
    "\n",
    "def calculateClassProbability(summaries, inputVector):\n",
    "    probabilities = {}\n",
    "    for classValue, classProbabilities in summaries.items():\n",
    "        probabilities[classValue] = 1\n",
    "        for index,attribute in enumerate(classProbabilities):\n",
    "            mean, stdev = classProbabilities[attribute]\n",
    "            x = inputVector[index]\n",
    "            probabilities[classValue] *= calculateProbability(x,mean,stdev)\n",
    "    return probabilities\n",
    "    \n",
    "if __name__ == '__main__':\n",
    "    current_dir = %pwd\n",
    "    DATA_DIR = current_dir + '/data/naiveBayes/'\n",
    "    print(DATA_DIR)\n",
    "    #Modify the file which is wrong \n",
    "    data_df = pandas.read_csv(DATA_DIR + 'pima-indians-diabetes.data.csv')\n",
    "    column_names = [\"Np\",\"Gt\",\"Dbp\",\"Tsft\",\"Ss\",\"Bmi\",\"Dpf\",\"Age\",\"Class\"]\n",
    "\n",
    "    correctness = [6,148,72,35,0,33.6,0.627,50,1]\n",
    "    #column_dicts = dict(zip(str_corr,column_names))\n",
    "\n",
    "    #change the name of columns of DataFrames\n",
    "    data_df.columns = column_names\n",
    "    #data_df.rename(index=str, columns=column_dicts)\n",
    "    #This is for the new row\n",
    "    corr_df = pandas.DataFrame([correctness],columns=column_names)\n",
    "\n",
    "    #append it to the end of data_df\n",
    "    data_df = data_df.append(corr_df,ignore_index=True)\n",
    "\n",
    "    train,test = split_dataset(data_df)\n",
    "    res = separateByClass(train)\n",
    "    summaries = {}\n",
    "    for item in res:\n",
    "        summaries[item] = summarize(res[item])\n",
    "    for classValue, classProbabilities in summaries.items():\n",
    "        print(classValue)\n",
    "        print(classProbabilities)"
   ]
  },
  {
   "cell_type": "code",
   "execution_count": 38,
   "metadata": {},
   "outputs": [
    {
     "name": "stdout",
     "output_type": "stream",
     "text": [
      "     Np   Gt  Dbp  Tsft   Ss   Bmi    Dpf  Age  Class\n",
      "0     1   85   66    29    0  26.6  0.351   31      0\n",
      "1     8  183   64     0    0  23.3  0.672   32      1\n",
      "2     1   89   66    23   94  28.1  0.167   21      0\n",
      "3     0  137   40    35  168  43.1  2.288   33      1\n",
      "4     5  116   74     0    0  25.6  0.201   30      0\n",
      "5     3   78   50    32   88  31.0  0.248   26      1\n",
      "6    10  115    0     0    0  35.3  0.134   29      0\n",
      "7     2  197   70    45  543  30.5  0.158   53      1\n",
      "8     8  125   96     0    0   0.0  0.232   54      1\n",
      "9     4  110   92     0    0  37.6  0.191   30      0\n",
      "10   10  168   74     0    0  38.0  0.537   34      1\n",
      "11   10  139   80     0    0  27.1  1.441   57      0\n",
      "12    1  189   60    23  846  30.1  0.398   59      1\n",
      "13    5  166   72    19  175  25.8  0.587   51      1\n",
      "14    7  100    0     0    0  30.0  0.484   32      1\n",
      "15    0  118   84    47  230  45.8  0.551   31      1\n",
      "16    7  107   74     0    0  29.6  0.254   31      1\n",
      "17    1  103   30    38   83  43.3  0.183   33      0\n",
      "18    1  115   70    30   96  34.6  0.529   32      1\n",
      "19    3  126   88    41  235  39.3  0.704   27      0\n",
      "20    8   99   84     0    0  35.4  0.388   50      0\n",
      "21    7  196   90     0    0  39.8  0.451   41      1\n",
      "22    9  119   80    35    0  29.0  0.263   29      1\n",
      "23   11  143   94    33  146  36.6  0.254   51      1\n",
      "24   10  125   70    26  115  31.1  0.205   41      1\n",
      "25    7  147   76     0    0  39.4  0.257   43      1\n",
      "26    1   97   66    15  140  23.2  0.487   22      0\n",
      "27   13  145   82    19  110  22.2  0.245   57      0\n",
      "28    5  117   92     0    0  34.1  0.337   38      0\n",
      "29    5  109   75    26    0  36.0  0.546   60      0\n",
      "..   ..  ...  ...   ...  ...   ...    ...  ...    ...\n",
      "737   2   99   60    17  160  36.6  0.453   21      0\n",
      "738   1  102   74     0    0  39.5  0.293   42      1\n",
      "739  11  120   80    37  150  42.3  0.785   48      1\n",
      "740   3  102   44    20   94  30.8  0.400   26      0\n",
      "741   1  109   58    18  116  28.5  0.219   22      0\n",
      "742   9  140   94     0    0  32.7  0.734   45      1\n",
      "743  13  153   88    37  140  40.6  1.174   39      0\n",
      "744  12  100   84    33  105  30.0  0.488   46      0\n",
      "745   1  147   94    41    0  49.3  0.358   27      1\n",
      "746   1   81   74    41   57  46.3  1.096   32      0\n",
      "747   3  187   70    22  200  36.4  0.408   36      1\n",
      "748   6  162   62     0    0  24.3  0.178   50      1\n",
      "749   4  136   70     0    0  31.2  1.182   22      1\n",
      "750   1  121   78    39   74  39.0  0.261   28      0\n",
      "751   3  108   62    24    0  26.0  0.223   25      0\n",
      "752   0  181   88    44  510  43.3  0.222   26      1\n",
      "753   8  154   78    32    0  32.4  0.443   45      1\n",
      "754   1  128   88    39  110  36.5  1.057   37      1\n",
      "755   7  137   90    41    0  32.0  0.391   39      0\n",
      "756   0  123   72     0    0  36.3  0.258   52      1\n",
      "757   1  106   76     0    0  37.5  0.197   26      0\n",
      "758   6  190   92     0    0  35.5  0.278   66      1\n",
      "759   2   88   58    26   16  28.4  0.766   22      0\n",
      "760   9  170   74    31    0  44.0  0.403   43      1\n",
      "761   9   89   62     0    0  22.5  0.142   33      0\n",
      "762  10  101   76    48  180  32.9  0.171   63      0\n",
      "763   2  122   70    27    0  36.8  0.340   27      0\n",
      "764   5  121   72    23  112  26.2  0.245   30      0\n",
      "765   1  126   60     0    0  30.1  0.349   47      1\n",
      "766   1   93   70    31    0  30.4  0.315   23      0\n",
      "\n",
      "[767 rows x 9 columns]\n"
     ]
    }
   ],
   "source": []
  },
  {
   "cell_type": "code",
   "execution_count": null,
   "metadata": {
    "collapsed": true
   },
   "outputs": [],
   "source": []
  }
 ],
 "metadata": {
  "kernelspec": {
   "display_name": "Python 3",
   "language": "python",
   "name": "python3"
  },
  "language_info": {
   "codemirror_mode": {
    "name": "ipython",
    "version": 3
   },
   "file_extension": ".py",
   "mimetype": "text/x-python",
   "name": "python",
   "nbconvert_exporter": "python",
   "pygments_lexer": "ipython3",
   "version": "3.5.3"
  }
 },
 "nbformat": 4,
 "nbformat_minor": 2
}
