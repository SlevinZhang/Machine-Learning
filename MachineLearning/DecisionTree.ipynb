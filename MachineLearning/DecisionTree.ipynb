{
 "cells": [
  {
   "cell_type": "code",
   "execution_count": 40,
   "metadata": {},
   "outputs": [
    {
     "name": "stdout",
     "output_type": "stream",
     "text": [
      "[0.0094307823577337996, 0.0013245035405111127, 0.080127493197419478, 0.06586270963148344, 0.33344640150585364, 0.00063772614638224479, 0.021667996002026721, 0.017877291366485776, 0.086482689554112174, 0.12825625128395401, 0.038684286852901179, 0.18113162410596259, 0.17376750883819123, 0.14225791868653953, 0.12913831467798559, 0.0, 0.0020454195179177015, 0.0043403008914365548, 0.190564545223603, 0.2335832467525589, 0.042047839275946769]\n"
     ]
    }
   ],
   "source": [
    "#Learn from scikit-learn\n",
    "from sklearn import tree\n",
    "import numpy as np\n",
    "import scipy.io\n",
    "import os\n",
    "import pydotplus\n",
    "from IPython.display import Image\n",
    "from collections import Counter\n",
    "class ssvDataset:\n",
    "    def __init__(self,file_name):\n",
    "        self.data,self.target,self.feature_names,self.target_names = self.read_ssv(file_name)\n",
    "    def read_ssv(self,file_name):\n",
    "        data_list = []\n",
    "        label_list = []\n",
    "        with open(file_name,'r') as f:\n",
    "            for index,line in enumerate(f):\n",
    "                if index == 1:\n",
    "                    feature_names = line.split(' ')[:-2]\n",
    "                elif index > 2:\n",
    "                    lis = line.split(' ')\n",
    "                    data_list.append([ord(char)-ord('a') for char in lis[1:-2]])\n",
    "                    label_list.append(lis[0])\n",
    "        target_names = ['poisonous','benignant']\n",
    "        return np.asarray(data_list),np.asarray(label_list),feature_names, target_names\n",
    "    def __str__(self):\n",
    "        return \"Data:{} \\nLabel:{}\".format(self.data,self.target)\n",
    "def information_gain(ssv):\n",
    "    \n",
    "    def _entropy(x):\n",
    "        counts = Counter(x)\n",
    "        keys = counts.keys()\n",
    "        x_length = np.float(len(x))\n",
    "        entro = 0\n",
    "        for key in keys:\n",
    "            prob = counts[key] / x_length\n",
    "            entro -= prob * np.log(prob)\n",
    "        return entro\n",
    "    \n",
    "    def _information_gain(feature,y):\n",
    "        feature_length = len(feature)\n",
    "        indice_dict = {}\n",
    "        for index in range(len(feature)):\n",
    "            indice_dict.setdefault(feature[index],[]).append(index)\n",
    "        keys = indice_dict.keys()\n",
    "        entrypy_dict = {}\n",
    "        info_gain = entrypy_before\n",
    "        for key in keys:\n",
    "            subtarget = y[indice_dict[key]]\n",
    "            info_gain -= (len(subtarget)/feature_length) * _entropy(subtarget)\n",
    "        return info_gain    \n",
    "            \n",
    "     \n",
    "\n",
    "    y = ssv.target\n",
    "    entrypy_before = _entropy(y)\n",
    "    information_gain_score = []\n",
    "    for index in range(len(ssv.feature_names)):\n",
    "        feature = ssv.data[:,index]\n",
    "        information_gain_score.append(_information_gain(feature,y))\n",
    "    return information_gain_score\n",
    "                \n",
    "def train_node(train_ssv):\n",
    "    clf = tree.DecisionTreeClassifier()\n",
    "    clf = clf.fit(train_ssv.data,train_ssv.target)\n",
    "    return clf\n",
    "\n",
    "def accuracy(test_ssv,clf):\n",
    "    total_num = len(test_ssv.target)\n",
    "    accurate = 0\n",
    "    for index in range(total_num):\n",
    "        predict = clf.predict([test_ssv.data[index]])\n",
    "        if predict == test_ssv.target[index]:\n",
    "            accurate += 1\n",
    "    return accurate / total_num\n",
    "\n",
    "\n",
    "if __name__ == '__main__':\n",
    "    os.chdir('D:/MachineLearning/Decision Tree/')\n",
    "    test_file = 'noisy10_test.ssv'\n",
    "    train_file = 'noisy10_train.ssv'\n",
    "    train_ssv = ssvDataset(train_file)\n",
    "    test_ssv = ssvDataset(test_file)\n",
    "    scores = information_gain(train_ssv)\n",
    "    print(scores)\n",
    "#     Find the accuracy by default setting\n",
    "#     node = train_node(train_ssv)\n",
    "#     acc_test = accuracy(test_ssv,node)\n",
    "#     acc_train = accuracy(train_ssv,node)\n",
    "#     print(\"Train Accuracy: \", acc_train)\n",
    "#     print(\"Test Accuracy: \", acc_test)\n",
    "#     dot_data = tree.export_graphviz(node,out_file=None,feature_names=train_ssv.feature_names, \n",
    "#                                     class_names=train_ssv.target_names,\n",
    "#                                    filled = True, rounded = True)\n",
    "#     dot_data = tree.export_graphviz(node,out_file=None)\n",
    "#     graph = pydotplus.graph_from_dot_data(dot_data)\n",
    "#     Image(graph.create_png())\n",
    "        "
   ]
  },
  {
   "cell_type": "code",
   "execution_count": 14,
   "metadata": {},
   "outputs": [
    {
     "ename": "KeyError",
     "evalue": "'list1'",
     "output_type": "error",
     "traceback": [
      "\u001b[1;31m---------------------------------------------------------------------------\u001b[0m",
      "\u001b[1;31mKeyError\u001b[0m                                  Traceback (most recent call last)",
      "\u001b[1;32m<ipython-input-14-71fd3740dbef>\u001b[0m in \u001b[0;36m<module>\u001b[1;34m()\u001b[0m\n\u001b[0;32m      4\u001b[0m \u001b[1;31m# key_dict.setdefault(\"list1\",[]).append(2)\u001b[0m\u001b[1;33m\u001b[0m\u001b[1;33m\u001b[0m\u001b[0m\n\u001b[0;32m      5\u001b[0m \u001b[1;31m# key_dict.setdefault(\"list1\",[]).append(3)\u001b[0m\u001b[1;33m\u001b[0m\u001b[1;33m\u001b[0m\u001b[0m\n\u001b[1;32m----> 6\u001b[1;33m \u001b[0mkey_dict\u001b[0m\u001b[1;33m[\u001b[0m\u001b[1;34m\"list1\"\u001b[0m\u001b[1;33m]\u001b[0m\u001b[1;33m.\u001b[0m\u001b[0mappend\u001b[0m\u001b[1;33m(\u001b[0m\u001b[1;36m4\u001b[0m\u001b[1;33m)\u001b[0m\u001b[1;33m\u001b[0m\u001b[0m\n\u001b[0m\u001b[0;32m      7\u001b[0m \u001b[0mprint\u001b[0m\u001b[1;33m(\u001b[0m\u001b[0mkey_dict\u001b[0m\u001b[1;33m)\u001b[0m\u001b[1;33m\u001b[0m\u001b[0m\n",
      "\u001b[1;31mKeyError\u001b[0m: 'list1'"
     ]
    }
   ],
   "source": [
    "import IPython.display\n",
    "key_dict = {}\n",
    "# key_dict.setdefault(\"list1\",[]).append(1)\n",
    "# key_dict.setdefault(\"list1\",[]).append(2)\n",
    "# key_dict.setdefault(\"list1\",[]).append(3)\n",
    "key_dict[\"list1\"].append(4)\n",
    "print(key_dict)"
   ]
  },
  {
   "cell_type": "code",
   "execution_count": 33,
   "metadata": {},
   "outputs": [
    {
     "name": "stdout",
     "output_type": "stream",
     "text": [
      "1\n"
     ]
    }
   ],
   "source": [
    "x = 1\n",
    "y = x\n",
    "y -= 1\n",
    "print(x)"
   ]
  },
  {
   "cell_type": "code",
   "execution_count": null,
   "metadata": {
    "collapsed": true
   },
   "outputs": [],
   "source": []
  }
 ],
 "metadata": {
  "kernelspec": {
   "display_name": "Python 3",
   "language": "python",
   "name": "python3"
  },
  "language_info": {
   "codemirror_mode": {
    "name": "ipython",
    "version": 3
   },
   "file_extension": ".py",
   "mimetype": "text/x-python",
   "name": "python",
   "nbconvert_exporter": "python",
   "pygments_lexer": "ipython3",
   "version": "3.5.3"
  }
 },
 "nbformat": 4,
 "nbformat_minor": 2
}
